{
  "nbformat": 4,
  "nbformat_minor": 0,
  "metadata": {
    "colab": {
      "provenance": []
    },
    "kernelspec": {
      "name": "python3",
      "display_name": "Python 3"
    },
    "language_info": {
      "name": "python"
    }
  },
  "cells": [
    {
      "cell_type": "markdown",
      "source": [
        "# 1. Introduction 📝"
      ],
      "metadata": {
        "id": "sCkpGfcbgO7H"
      }
    },
    {
      "cell_type": "markdown",
      "source": [
        "# 2. EDA and Preprocessing 📊"
      ],
      "metadata": {
        "id": "_1ZsnvhjggKD"
      }
    },
    {
      "cell_type": "code",
      "source": [
        "# Google drive setup\n",
        "from google.colab import drive\n",
        "drive.mount('/content/drive')"
      ],
      "metadata": {
        "colab": {
          "base_uri": "https://localhost:8080/"
        },
        "id": "lq1I5wVy6_n3",
        "outputId": "05a279fa-8e61-4248-f388-49a35a010fdf"
      },
      "execution_count": null,
      "outputs": [
        {
          "output_type": "stream",
          "name": "stdout",
          "text": [
            "Mounted at /content/drive\n"
          ]
        }
      ]
    },
    {
      "cell_type": "code",
      "source": [
        "# Github repository cloning\n",
        "from google.colab import userdata # Import the userdata module\n",
        "GIT_TOKEN = userdata.get('GITHUB_TOKEN') # Or use secrets manager in Colab\n",
        "GIT_USERNAME = \"M-Carre\"\n",
        "GIT_REPO = \"OC-NeoBERT-POC\"\n",
        "REPO_NAME = \"OC-NeoBERT-POC\"\n",
        "\n",
        "# --- Clean up ---\n",
        "%cd /content\n",
        "# Remove the existing repository directory if it exists\n",
        "# The -rf flags mean recursive (delete subdirectories) and force (suppress prompts)\n",
        "!rm -rf {REPO_NAME}\n",
        "print(f\"Removed existing directory ./{REPO_NAME} (if it existed).\")\n",
        "\n",
        "# Git clone\n",
        "!git clone https://{GIT_TOKEN}@github.com/{GIT_USERNAME}/{GIT_REPO}.git\n",
        "\n",
        "# It's good practice to navigate into your repository directory\n",
        "%cd OC-NeoBERT-POC"
      ],
      "metadata": {
        "colab": {
          "base_uri": "https://localhost:8080/"
        },
        "id": "iYwC-3px7Fj8",
        "outputId": "c597e2a4-3c07-4975-c669-b6a512ebcd7f"
      },
      "execution_count": 39,
      "outputs": [
        {
          "output_type": "stream",
          "name": "stdout",
          "text": [
            "/content\n",
            "Removed existing directory ./OC-NeoBERT-POC (if it existed).\n",
            "Cloning into 'OC-NeoBERT-POC'...\n",
            "remote: Enumerating objects: 7, done.\u001b[K\n",
            "remote: Counting objects: 100% (7/7), done.\u001b[K\n",
            "remote: Compressing objects: 100% (5/5), done.\u001b[K\n",
            "remote: Total 7 (delta 1), reused 4 (delta 1), pack-reused 0 (from 0)\u001b[K\n",
            "Receiving objects: 100% (7/7), done.\n",
            "Resolving deltas: 100% (1/1), done.\n",
            "/content/OC-NeoBERT-POC\n"
          ]
        }
      ]
    },
    {
      "cell_type": "code",
      "source": [
        "# Cell 2: (Optional but recommended) Configure Git user for this session\n",
        "# This helps identify your commits correctly\n",
        "!git config --global user.email \"carre.mathis@proton.me\"\n",
        "!git config --global user.name \"M-Carre\""
      ],
      "metadata": {
        "id": "4Iy8GsgqFtnc"
      },
      "execution_count": 40,
      "outputs": []
    },
    {
      "cell_type": "code",
      "source": [
        "# Core Libraries\n",
        "import pandas as pd\n",
        "import numpy as np\n",
        "\n",
        "# Visualization\n",
        "import matplotlib.pyplot as plt\n",
        "import seaborn as sns\n",
        "from wordcloud import WordCloud\n",
        "\n",
        "# Text Processing with spaCy\n",
        "import spacy\n",
        "# You might need to download the English model if you haven't already\n",
        "# Run in a new cell: !python -m spacy download en_core_web_sm\n",
        "# Then load it:\n",
        "# nlp = spacy.load('en_core_web_sm')\n",
        "\n",
        "# Scikit-learn for traditional ML tasks and metrics\n",
        "from sklearn.model_selection import train_test_split\n",
        "from sklearn.feature_extraction.text import TfidfVectorizer\n",
        "from sklearn.linear_model import LogisticRegression\n",
        "from sklearn.metrics import accuracy_score, classification_report, confusion_matrix\n",
        "from sklearn.preprocessing import LabelEncoder\n",
        "\n",
        "# Hugging Face Transformers (will be used more heavily in later phases)\n",
        "# import transformers # We can import specific modules later as needed\n",
        "\n",
        "# Other utilities\n",
        "import re # For regular expressions, if needed for cleaning\n",
        "import collections # For Counter, if used for frequency distributions\n",
        "\n",
        "# Plotting settings (optional, for aesthetics)\n",
        "sns.set_style('whitegrid')\n",
        "plt.rcParams['figure.figsize'] = (10, 6) # Default figure size"
      ],
      "metadata": {
        "id": "X0lmTRkYhx-5"
      },
      "execution_count": 41,
      "outputs": []
    },
    {
      "cell_type": "code",
      "source": [
        "# Cell 4: Copy dataset from Drive to local (cloned) project directory and load it\n",
        "\n",
        "import pandas as pd\n",
        "import shutil # For copying files\n",
        "import os\n",
        "\n",
        "# --- Configuration ---\n",
        "# Path to the dataset on your Google Drive\n",
        "drive_dataset_path = '/content/drive/MyDrive/Colab Notebooks/OC/P9/Data/DBP_wiki_data.csv'\n",
        "\n",
        "# Relative path where you want to store the dataset within your cloned project\n",
        "# Example: Create a 'data' folder inside your 'OC-NeoBERT-POC' repository\n",
        "local_project_data_folder = 'data' # This folder will be inside OC-NeoBERT-POC\n",
        "local_dataset_filename = 'DBP_wiki_data.csv'\n",
        "local_dataset_path = os.path.join(local_project_data_folder, local_dataset_filename)\n",
        "\n",
        "# --- Ensure local data directory exists ---\n",
        "# This assumes you are already in the root of your cloned repository (e.g., /content/OC-NeoBERT-POC)\n",
        "if not os.path.exists(local_project_data_folder):\n",
        "    os.makedirs(local_project_data_folder)\n",
        "    print(f\"Created local directory: {local_project_data_folder}\")\n",
        "\n",
        "# --- Copy the file from Drive to the local project directory ---\n",
        "try:\n",
        "    shutil.copy(drive_dataset_path, local_dataset_path)\n",
        "    print(f\"Dataset copied from Google Drive to: {local_dataset_path}\")\n",
        "except FileNotFoundError:\n",
        "    print(f\"ERROR: Source file not found on Google Drive at {drive_dataset_path}\")\n",
        "    print(\"Please ensure the file exists and the path is correct.\")\n",
        "except Exception as e:\n",
        "    print(f\"An error occurred while copying the file: {e}\")\n",
        "\n",
        "# --- Load the dataset using the local relative path ---\n",
        "if os.path.exists(local_dataset_path):\n",
        "    try:\n",
        "        df = pd.read_csv(local_dataset_path)\n",
        "        print(\"Dataset loaded successfully from local project path!\")\n",
        "        print(f\"Shape of the dataset: {df.shape}\")\n",
        "        print(\"First 5 rows of the dataset:\")\n",
        "        print(df.head())\n",
        "    except Exception as e:\n",
        "        print(f\"An error occurred while loading the dataset from {local_dataset_path}: {e}\")\n",
        "else:\n",
        "    print(f\"ERROR: Dataset not found at local project path {local_dataset_path} after attempting copy.\")\n",
        "    df = None # Initialize df as None if loading fails\n",
        "\n",
        "# --- (Important) Add the local_project_data_folder to .gitignore ---\n",
        "# You typically don't want to commit large data files to your Git repository.\n",
        "# This step creates/appends to a .gitignore file in your project's root.\n",
        "# It should be run once, or checked to ensure the data folder is listed.\n",
        "gitignore_path = '.gitignore'\n",
        "entry_to_add = f\"\\n# Ignore large data files\\n{local_project_data_folder}/\\n\"\n",
        "\n",
        "try:\n",
        "    with open(gitignore_path, 'a+') as f: # Open in append+read mode\n",
        "        f.seek(0) # Go to the beginning of the file to read its content\n",
        "        content = f.read()\n",
        "        if local_project_data_folder + '/' not in content: # Check if entry already exists\n",
        "            f.write(entry_to_add)\n",
        "            print(f\"Added '{local_project_data_folder}/' to .gitignore\")\n",
        "        else:\n",
        "            print(f\"'{local_project_data_folder}/' already in .gitignore\")\n",
        "except Exception as e:\n",
        "    print(f\"An error occurred while updating .gitignore: {e}\")"
      ],
      "metadata": {
        "colab": {
          "base_uri": "https://localhost:8080/"
        },
        "id": "_OurwNK7AiG1",
        "outputId": "f62433de-3c37-4d76-9e30-7ab9abf00015"
      },
      "execution_count": 42,
      "outputs": [
        {
          "output_type": "stream",
          "name": "stdout",
          "text": [
            "Created local directory: data\n",
            "Dataset copied from Google Drive to: data/DBP_wiki_data.csv\n",
            "Dataset loaded successfully from local project path!\n",
            "Shape of the dataset: (342781, 6)\n",
            "First 5 rows of the dataset:\n",
            "                                                text     l1            l2  \\\n",
            "0  The 1994 Mindoro earthquake occurred on Novemb...  Event  NaturalEvent   \n",
            "1  The 1917 Bali earthquake occurred at 06:50 loc...  Event  NaturalEvent   \n",
            "2  The 1941 Colima earthquake occurred on April 1...  Event  NaturalEvent   \n",
            "3  The 1983 Coalinga earthquake occurred on May 2...  Event  NaturalEvent   \n",
            "4  The 2013 Bushehr earthquake occurred with a mo...  Event  NaturalEvent   \n",
            "\n",
            "           l3                 wiki_name  word_count  \n",
            "0  Earthquake   1994_Mindoro_earthquake          59  \n",
            "1  Earthquake      1917_Bali_earthquake          68  \n",
            "2  Earthquake    1941_Colima_earthquake         194  \n",
            "3  Earthquake  1983_Coalinga_earthquake          98  \n",
            "4  Earthquake   2013_Bushehr_earthquake          61  \n",
            "'data/' already in .gitignore\n"
          ]
        }
      ]
    },
    {
      "cell_type": "markdown",
      "source": [
        "# 3. Baseline Models 📉"
      ],
      "metadata": {
        "id": "VG7knukdhJ4f"
      }
    },
    {
      "cell_type": "markdown",
      "source": [
        "# 4. NeoBERT Implementation (New Model) ✨"
      ],
      "metadata": {
        "id": "l9cxpq8nhNIE"
      }
    },
    {
      "cell_type": "markdown",
      "source": [
        "# 5. Results Comparison and Analysis 📈"
      ],
      "metadata": {
        "id": "ahgkbkrXhQlR"
      }
    },
    {
      "cell_type": "markdown",
      "source": [
        "# GitHub Push 🖥️"
      ],
      "metadata": {
        "id": "CseYWXO_gR-f"
      }
    },
    {
      "cell_type": "code",
      "source": [
        "!git status"
      ],
      "metadata": {
        "colab": {
          "base_uri": "https://localhost:8080/"
        },
        "id": "PvEHFmioHPaf",
        "outputId": "85ba0dc6-fb82-4762-b317-7731f7279a2f"
      },
      "execution_count": 44,
      "outputs": [
        {
          "output_type": "stream",
          "name": "stdout",
          "text": [
            "On branch main\n",
            "Your branch is up to date with 'origin/main'.\n",
            "\n",
            "nothing to commit, working tree clean\n"
          ]
        }
      ]
    },
    {
      "cell_type": "code",
      "source": [
        "# (End of Session): Check Git status\n",
        "# This shows you what files have changed\n",
        "!git status\n",
        "\n",
        "# Add all new and modified files in the current directory and subdirectories\n",
        "!git add .\n",
        "\n",
        "# Replace \"Your detailed commit message\" with a meaningful description of your changes\n",
        "COMMIT_MESSAGE = \"\"\n",
        "!git commit -m \"{COMMIT_MESSAGE}\"\n",
        "\n",
        "# Push changes to GitHub\n",
        "!git push origin main"
      ],
      "metadata": {
        "colab": {
          "base_uri": "https://localhost:8080/"
        },
        "id": "j27LzjJqgTnI",
        "outputId": "55758fb2-ab7d-451d-e59c-b9ae831c1ab0"
      },
      "execution_count": null,
      "outputs": [
        {
          "output_type": "stream",
          "name": "stdout",
          "text": [
            "On branch main\n",
            "Your branch is up to date with 'origin/main'.\n",
            "\n",
            "Changes not staged for commit:\n",
            "  (use \"git add <file>...\" to update what will be committed)\n",
            "  (use \"git restore <file>...\" to discard changes in working directory)\n",
            "\t\u001b[31mmodified:   .gitignore\u001b[m\n",
            "\n",
            "no changes added to commit (use \"git add\" and/or \"git commit -a\")\n",
            "[main 7ce8158] GitHub Setup\n",
            " 1 file changed, 3 insertions(+), 1 deletion(-)\n",
            "Enumerating objects: 5, done.\n",
            "Counting objects: 100% (5/5), done.\n",
            "Delta compression using up to 2 threads\n",
            "Compressing objects: 100% (3/3), done.\n",
            "Writing objects: 100% (3/3), 342 bytes | 342.00 KiB/s, done.\n",
            "Total 3 (delta 1), reused 0 (delta 0), pack-reused 0\n",
            "remote: Resolving deltas: 100% (1/1), completed with 1 local object.\u001b[K\n",
            "To https://github.com/M-Carre/OC-NeoBERT-POC.git\n",
            "   157f80e..7ce8158  main -> main\n"
          ]
        }
      ]
    }
  ]
}